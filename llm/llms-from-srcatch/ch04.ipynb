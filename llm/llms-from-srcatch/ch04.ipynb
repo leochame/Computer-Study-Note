{
  "nbformat": 4,
  "nbformat_minor": 0,
  "metadata": {
    "colab": {
      "provenance": [],
      "authorship_tag": "ABX9TyNc0tBiyAAlI9GRoTy9/aly",
      "include_colab_link": true
    },
    "kernelspec": {
      "name": "python3",
      "display_name": "Python 3"
    },
    "language_info": {
      "name": "python"
    }
  },
  "cells": [
    {
      "cell_type": "markdown",
      "metadata": {
        "id": "view-in-github",
        "colab_type": "text"
      },
      "source": [
        "<a href=\"https://colab.research.google.com/github/leochame/Computer-Study-Note/blob/main/llm/llms-from-srcatch/ch04.ipynb\" target=\"_parent\"><img src=\"https://colab.research.google.com/assets/colab-badge.svg\" alt=\"Open In Colab\"/></a>"
      ]
    },
    {
      "cell_type": "markdown",
      "source": [
        "#\n",
        "注意力机制是LLM的核心，那么接下来我们将组装剩下的组件"
      ],
      "metadata": {
        "id": "HqVHDlh8hIhM"
      }
    },
    {
      "cell_type": "code",
      "execution_count": 1,
      "metadata": {
        "colab": {
          "base_uri": "https://localhost:8080/"
        },
        "id": "LFMoLIZMhAXr",
        "outputId": "e5ae25d3-0fe4-4d2d-a653-06914fab596d"
      },
      "outputs": [
        {
          "output_type": "stream",
          "name": "stdout",
          "text": [
            "matplotlib version: 3.10.0\n",
            "torch version: 2.6.0+cu124\n",
            "tiktoken version: 0.9.0\n"
          ]
        }
      ],
      "source": [
        "from importlib.metadata import version\n",
        "\n",
        "import matplotlib\n",
        "import tiktoken\n",
        "import torch\n",
        "\n",
        "print(\"matplotlib version:\", version(\"matplotlib\"))\n",
        "print(\"torch version:\", version(\"torch\"))\n",
        "print(\"tiktoken version:\", version(\"tiktoken\"))\n",
        "#加载并确认版本"
      ]
    },
    {
      "cell_type": "code",
      "source": [
        "GPT_CONFIG_124M = {\n",
        "    \"vocab_size\": 50257,    # Vocabulary size\n",
        "    \"context_length\": 1024, # Context length\n",
        "    \"emb_dim\": 768,         # Embedding dimension\n",
        "    \"n_heads\": 12,          # Number of attention heads\n",
        "    \"n_layers\": 12,         # Number of layers\n",
        "    \"drop_rate\": 0.1,       # Dropout rate\n",
        "    \"qkv_bias\": False       # Query-Key-Value bias\n",
        "}\n",
        "#初始化定义需要的各种超参数"
      ],
      "metadata": {
        "id": "tBhiGcBKTVXi"
      },
      "execution_count": 2,
      "outputs": []
    },
    {
      "cell_type": "markdown",
      "source": [
        "上面是配置，"
      ],
      "metadata": {
        "id": "vbzDWMttTd6p"
      }
    },
    {
      "cell_type": "code",
      "source": [
        "import torch\n",
        "import torch.nn as nn\n",
        "\n",
        "\n",
        "class DummyGPTModel(nn.Module):\n",
        "    def __init__(self, cfg):\n",
        "        super().__init__()\n",
        "        self.tok_emb = nn.Embedding(cfg[\"vocab_size\"], cfg[\"emb_dim\"])\n",
        "        # 词嵌入层，将输入索引转换为词向量，词表大小由字典大小和特征维度决定。\n",
        "        self.pos_emb = nn.Embedding(cfg[\"context_length\"], cfg[\"emb_dim\"])\n",
        "        # 位置信息嵌入层，基于文本长度和特征维度生成位置信息。\n",
        "        self.drop_emb = nn.Dropout(cfg[\"drop_rate\"])\n",
        "        # Dropout 层，用于随机丢弃一部分嵌入信息以减少过拟合。\n",
        "\n",
        "        # 使用多个 Transformer 块（占位符）\n",
        "        self.trf_blocks = nn.Sequential(\n",
        "            *[DummyTransformerBlock(cfg) for _ in range(cfg[\"n_layers\"])]\n",
        "        )\n",
        "        # Transformer 模块的堆叠，模型核心部分。\n",
        "\n",
        "        # 使用归一化层（占位符）\n",
        "        self.final_norm = DummyLayerNorm(cfg[\"emb_dim\"])\n",
        "        # 最终归一化层，用于调整特征分布。\n",
        "\n",
        "        self.out_head = nn.Linear(\n",
        "            cfg[\"emb_dim\"], cfg[\"vocab_size\"], bias=False\n",
        "        )\n",
        "        # 输出层，将特征映射到词表分布，最终预测输出单词。\n",
        "\n",
        "    def forward(self, in_idx):\n",
        "        batch_size, seq_len = in_idx.shape\n",
        "        # 获取批次大小和序列长度。\n",
        "\n",
        "        tok_embeds = self.tok_emb(in_idx)\n",
        "        # 根据输入索引生成词嵌入。\n",
        "        pos_embeds = self.pos_emb(torch.arange(seq_len, device=in_idx.device))\n",
        "        # 生成对应的位置信息嵌入。\n",
        "\n",
        "        x = tok_embeds + pos_embeds\n",
        "        # 将词嵌入和位置信息嵌入相加。\n",
        "        x = self.drop_emb(x)\n",
        "        # 应用 Dropout 随机丢弃部分信息。\n",
        "        x = self.trf_blocks(x)\n",
        "        # 通过多个 Transformer 块处理特征。\n",
        "        x = self.final_norm(x)\n",
        "        # 应用最终的归一化层。\n",
        "        logits = self.out_head(x)\n",
        "        # 将隐藏状态映射到词表分布，生成预测结果。\n",
        "        return logits\n",
        "\n",
        "\n",
        "class DummyTransformerBlock(nn.Module):\n",
        "    # Transformer 块的占位类。\n",
        "    def __init__(self, cfg):\n",
        "        super().__init__()\n",
        "        # 占位，实际模型应实现注意力机制和前馈网络。\n",
        "\n",
        "    def forward(self, x):\n",
        "        # 此块不执行任何操作，仅返回输入。\n",
        "        return x\n",
        "\n",
        "\n",
        "class DummyLayerNorm(nn.Module):\n",
        "    # 归一化层的占位类。\n",
        "    def __init__(self, normalized_shape, eps=1e-5):\n",
        "        super().__init__()\n",
        "        # 参数用于模拟 LayerNorm 的接口。\n",
        "\n",
        "    def forward(self, x):\n",
        "        # 此层不执行任何操作，仅返回输入。\n",
        "        return x"
      ],
      "metadata": {
        "id": "UD12ODetTeME"
      },
      "execution_count": 3,
      "outputs": []
    },
    {
      "cell_type": "code",
      "source": [],
      "metadata": {
        "id": "IzP3KE1LTdjQ"
      },
      "execution_count": 3,
      "outputs": []
    }
  ]
}